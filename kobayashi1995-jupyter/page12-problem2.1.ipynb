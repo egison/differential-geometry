{
 "cells": [
  {
   "cell_type": "code",
   "execution_count": 1,
   "metadata": {},
   "outputs": [
    {
     "name": "stdout",
     "output_type": "stream",
     "text": []
    }
   ],
   "source": [
    "(define $x (function [t]))"
   ]
  },
  {
   "cell_type": "code",
   "execution_count": 2,
   "metadata": {},
   "outputs": [
    {
     "name": "stdout",
     "output_type": "stream",
     "text": []
    }
   ],
   "source": [
    "(define $y (function [t]))"
   ]
  },
  {
   "cell_type": "code",
   "execution_count": 3,
   "metadata": {},
   "outputs": [
    {
     "name": "stdout",
     "output_type": "stream",
     "text": []
    }
   ],
   "source": [
    "(define $p [| x y |])"
   ]
  },
  {
   "cell_type": "code",
   "execution_count": 4,
   "metadata": {},
   "outputs": [
    {
     "name": "stdout",
     "output_type": "stream",
     "text": []
    }
   ],
   "source": [
    "(define $p' (d/d p t))"
   ]
  },
  {
   "cell_type": "code",
   "execution_count": 5,
   "metadata": {},
   "outputs": [
    {
     "name": "stdout",
     "output_type": "stream",
     "text": []
    }
   ],
   "source": [
    "(define $e1 (/ p' (sqrt (V.* p' p'))))"
   ]
  },
  {
   "cell_type": "code",
   "execution_count": 6,
   "metadata": {},
   "outputs": [
    {
     "name": "stdout",
     "output_type": "stream",
     "text": []
    }
   ],
   "source": [
    "(define $e2 [| (* -1 e1_2) e1_1 |])"
   ]
  },
  {
   "cell_type": "code",
   "execution_count": 7,
   "metadata": {},
   "outputs": [
    {
     "data": {
      "text/html": [
       "$$\\begin{pmatrix} \\frac{\\frac{\\partial x}{\\partial t}}{\\sqrt{\\frac{\\partial x}{\\partial t}^2 + \\frac{\\partial y}{\\partial t}^2}} \\\\ \\frac{\\frac{\\partial y}{\\partial t}}{\\sqrt{\\frac{\\partial x}{\\partial t}^2 + \\frac{\\partial y}{\\partial t}^2}}\\\\ \\end{pmatrix}$$"
      ]
     },
     "metadata": {},
     "output_type": "display_data"
    }
   ],
   "source": [
    "e1"
   ]
  },
  {
   "cell_type": "code",
   "execution_count": 8,
   "metadata": {},
   "outputs": [
    {
     "data": {
      "text/html": [
       "$$\\begin{pmatrix} \\frac{-\\frac{\\partial y}{\\partial t}}{\\sqrt{\\frac{\\partial x}{\\partial t}^2 + \\frac{\\partial y}{\\partial t}^2}} \\\\ \\frac{\\frac{\\partial x}{\\partial t}}{\\sqrt{\\frac{\\partial x}{\\partial t}^2 + \\frac{\\partial y}{\\partial t}^2}}\\\\ \\end{pmatrix}$$"
      ]
     },
     "metadata": {},
     "output_type": "display_data"
    }
   ],
   "source": [
    "e2"
   ]
  },
  {
   "cell_type": "code",
   "execution_count": 9,
   "metadata": {},
   "outputs": [
    {
     "name": "stdout",
     "output_type": "stream",
     "text": []
    }
   ],
   "source": [
    "(define $e1' (d/d e1 t))"
   ]
  },
  {
   "cell_type": "code",
   "execution_count": 10,
   "metadata": {},
   "outputs": [
    {
     "data": {
      "text/html": [
       "$$\\begin{pmatrix} \\frac{\\frac{\\partial y}{\\partial t}^2 \\frac{\\partial^2 x}{\\partial t^2} - \\frac{\\partial y}{\\partial t} \\frac{\\partial^2 y}{\\partial t^2} \\frac{\\partial x}{\\partial t}}{\\sqrt{\\frac{\\partial x}{\\partial t}^2 + \\frac{\\partial y}{\\partial t}^2} \\frac{\\partial x}{\\partial t}^2 + \\sqrt{\\frac{\\partial x}{\\partial t}^2 + \\frac{\\partial y}{\\partial t}^2} \\frac{\\partial y}{\\partial t}^2} \\\\ \\frac{\\frac{\\partial x}{\\partial t}^2 \\frac{\\partial^2 y}{\\partial t^2} - \\frac{\\partial x}{\\partial t} \\frac{\\partial^2 x}{\\partial t^2} \\frac{\\partial y}{\\partial t}}{\\sqrt{\\frac{\\partial x}{\\partial t}^2 + \\frac{\\partial y}{\\partial t}^2} \\frac{\\partial x}{\\partial t}^2 + \\sqrt{\\frac{\\partial x}{\\partial t}^2 + \\frac{\\partial y}{\\partial t}^2} \\frac{\\partial y}{\\partial t}^2}\\\\ \\end{pmatrix}$$"
      ]
     },
     "metadata": {},
     "output_type": "display_data"
    }
   ],
   "source": [
    "e1'"
   ]
  },
  {
   "cell_type": "code",
   "execution_count": 11,
   "metadata": {},
   "outputs": [
    {
     "name": "stdout",
     "output_type": "stream",
     "text": []
    }
   ],
   "source": [
    "(define $ds/dt (sqrt (V.* p' p')))"
   ]
  },
  {
   "cell_type": "code",
   "execution_count": 12,
   "metadata": {},
   "outputs": [
    {
     "name": "stdout",
     "output_type": "stream",
     "text": []
    }
   ],
   "source": [
    "(define $dt/ds (/ 1 ds/dt))"
   ]
  },
  {
   "cell_type": "code",
   "execution_count": 13,
   "metadata": {},
   "outputs": [
    {
     "data": {
      "text/html": [
       "$$\\frac{1}{\\sqrt{\\frac{\\partial x}{\\partial t}^2 + \\frac{\\partial y}{\\partial t}^2}}$$"
      ]
     },
     "metadata": {},
     "output_type": "display_data"
    }
   ],
   "source": [
    "dt/ds"
   ]
  },
  {
   "cell_type": "code",
   "execution_count": 14,
   "metadata": {},
   "outputs": [
    {
     "name": "stdout",
     "output_type": "stream",
     "text": []
    }
   ],
   "source": [
    "(define $κ (* (/ e1'_1 e2_1) dt/ds))"
   ]
  },
  {
   "cell_type": "code",
   "execution_count": 15,
   "metadata": {},
   "outputs": [
    {
     "data": {
      "text/html": [
       "$$\\frac{\\frac{\\partial y}{\\partial t} \\frac{\\partial^2 x}{\\partial t^2} - \\frac{\\partial^2 y}{\\partial t^2} \\frac{\\partial x}{\\partial t}}{-\\frac{\\partial x}{\\partial t}^2 \\sqrt{\\frac{\\partial x}{\\partial t}^2 + \\frac{\\partial y}{\\partial t}^2} - \\frac{\\partial y}{\\partial t}^2 \\sqrt{\\frac{\\partial x}{\\partial t}^2 + \\frac{\\partial y}{\\partial t}^2}}$$"
      ]
     },
     "metadata": {},
     "output_type": "display_data"
    }
   ],
   "source": [
    "κ"
   ]
  },
  {
   "cell_type": "code",
   "execution_count": null,
   "metadata": {},
   "outputs": [],
   "source": []
  }
 ],
 "metadata": {
  "kernelspec": {
   "display_name": "Egison",
   "language": "egison",
   "name": "egison"
  },
  "language_info": {
   "codemirror_mode": "egison",
   "file_extension": ".egi",
   "mimetype": "text/plain",
   "name": "egison"
  }
 },
 "nbformat": 4,
 "nbformat_minor": 2
}
