{
 "cells": [
  {
   "cell_type": "code",
   "execution_count": 1,
   "metadata": {},
   "outputs": [
    {
     "name": "stdout",
     "output_type": "stream",
     "text": []
    }
   ],
   "source": [
    "(define $f (function [x y]))"
   ]
  },
  {
   "cell_type": "code",
   "execution_count": 2,
   "metadata": {},
   "outputs": [
    {
     "name": "stdout",
     "output_type": "stream",
     "text": []
    }
   ],
   "source": [
    "(define $v1 [| 1 0 (∂/∂ f x) |])"
   ]
  },
  {
   "cell_type": "code",
   "execution_count": 3,
   "metadata": {},
   "outputs": [
    {
     "name": "stdout",
     "output_type": "stream",
     "text": []
    }
   ],
   "source": [
    "(define $v2 [| 0 1 (∂/∂ f y) |])"
   ]
  },
  {
   "cell_type": "code",
   "execution_count": 4,
   "metadata": {},
   "outputs": [
    {
     "data": {
      "text/html": [
       "$$\\begin{pmatrix} 1 \\\\ 0 \\\\ \\frac{\\partial f}{\\partial x}\\\\ \\end{pmatrix}$$"
      ]
     },
     "metadata": {},
     "output_type": "display_data"
    }
   ],
   "source": [
    "v1"
   ]
  },
  {
   "cell_type": "code",
   "execution_count": 5,
   "metadata": {},
   "outputs": [
    {
     "data": {
      "text/html": [
       "$$\\begin{pmatrix} 0 \\\\ 1 \\\\ \\frac{\\partial f}{\\partial y}\\\\ \\end{pmatrix}$$"
      ]
     },
     "metadata": {},
     "output_type": "display_data"
    }
   ],
   "source": [
    "v2"
   ]
  },
  {
   "cell_type": "code",
   "execution_count": 6,
   "metadata": {},
   "outputs": [
    {
     "name": "stdout",
     "output_type": "stream",
     "text": []
    }
   ],
   "source": [
    "(define $v3 (cross-product v1 v2))"
   ]
  },
  {
   "cell_type": "code",
   "execution_count": 7,
   "metadata": {},
   "outputs": [
    {
     "data": {
      "text/html": [
       "$$\\begin{pmatrix} -\\frac{\\partial f}{\\partial x} \\\\ -\\frac{\\partial f}{\\partial y} \\\\ 1\\\\ \\end{pmatrix}$$"
      ]
     },
     "metadata": {},
     "output_type": "display_data"
    }
   ],
   "source": [
    "v3"
   ]
  },
  {
   "cell_type": "code",
   "execution_count": 8,
   "metadata": {},
   "outputs": [
    {
     "name": "stdout",
     "output_type": "stream",
     "text": []
    }
   ],
   "source": [
    "(define $e3 (/ v3 (sqrt '(V.* v3 v3))))"
   ]
  },
  {
   "cell_type": "code",
   "execution_count": 9,
   "metadata": {},
   "outputs": [
    {
     "data": {
      "text/html": [
       "$$\\begin{pmatrix} \\frac{-\\frac{\\partial f}{\\partial x}}{\\sqrt{(\\frac{\\partial f}{\\partial x}^2 + \\frac{\\partial f}{\\partial y}^2 + 1)}} \\\\ \\frac{-\\frac{\\partial f}{\\partial y}}{\\sqrt{(\\frac{\\partial f}{\\partial x}^2 + \\frac{\\partial f}{\\partial y}^2 + 1)}} \\\\ \\frac{1}{\\sqrt{(\\frac{\\partial f}{\\partial x}^2 + \\frac{\\partial f}{\\partial y}^2 + 1)}}\\\\ \\end{pmatrix}$$"
      ]
     },
     "metadata": {},
     "output_type": "display_data"
    }
   ],
   "source": [
    "e3"
   ]
  },
  {
   "cell_type": "code",
   "execution_count": 10,
   "metadata": {},
   "outputs": [
    {
     "name": "stdout",
     "output_type": "stream",
     "text": []
    }
   ],
   "source": [
    "(define $E (V.* v1 v1))"
   ]
  },
  {
   "cell_type": "code",
   "execution_count": 11,
   "metadata": {},
   "outputs": [
    {
     "name": "stdout",
     "output_type": "stream",
     "text": []
    }
   ],
   "source": [
    "(define $F (V.* v1 v2))"
   ]
  },
  {
   "cell_type": "code",
   "execution_count": 12,
   "metadata": {},
   "outputs": [
    {
     "name": "stdout",
     "output_type": "stream",
     "text": []
    }
   ],
   "source": [
    "(define $G (V.* v2 v2))"
   ]
  },
  {
   "cell_type": "code",
   "execution_count": 13,
   "metadata": {},
   "outputs": [
    {
     "data": {
      "text/html": [
       "$$(1 + \\frac{\\partial f}{\\partial x}^2, \\frac{\\partial f}{\\partial x} \\frac{\\partial f}{\\partial y}, 1 + \\frac{\\partial f}{\\partial y}^2)$$"
      ]
     },
     "metadata": {},
     "output_type": "display_data"
    }
   ],
   "source": [
    "[E F G]"
   ]
  },
  {
   "cell_type": "code",
   "execution_count": 14,
   "metadata": {},
   "outputs": [
    {
     "name": "stdout",
     "output_type": "stream",
     "text": []
    }
   ],
   "source": [
    "(define $L (V.* (∂/∂ v1 x) e3))"
   ]
  },
  {
   "cell_type": "code",
   "execution_count": 15,
   "metadata": {},
   "outputs": [
    {
     "name": "stdout",
     "output_type": "stream",
     "text": []
    }
   ],
   "source": [
    "(define $M (V.* (∂/∂ v1 y) e3))"
   ]
  },
  {
   "cell_type": "code",
   "execution_count": 16,
   "metadata": {},
   "outputs": [
    {
     "name": "stdout",
     "output_type": "stream",
     "text": []
    }
   ],
   "source": [
    "(define $N (V.* (∂/∂ v2 y) e3))"
   ]
  },
  {
   "cell_type": "code",
   "execution_count": 17,
   "metadata": {},
   "outputs": [
    {
     "data": {
      "text/html": [
       "$$(\\frac{\\frac{\\partial^2 f}{\\partial x^2}}{\\sqrt{(\\frac{\\partial f}{\\partial x}^2 + \\frac{\\partial f}{\\partial y}^2 + 1)}}, \\frac{\\frac{\\partial^2 f}{\\partial x \\partial y}}{\\sqrt{(\\frac{\\partial f}{\\partial x}^2 + \\frac{\\partial f}{\\partial y}^2 + 1)}}, \\frac{\\frac{\\partial^2 f}{\\partial y^2}}{\\sqrt{(\\frac{\\partial f}{\\partial x}^2 + \\frac{\\partial f}{\\partial y}^2 + 1)}})$$"
      ]
     },
     "metadata": {},
     "output_type": "display_data"
    }
   ],
   "source": [
    "[L M N]"
   ]
  },
  {
   "cell_type": "code",
   "execution_count": 18,
   "metadata": {},
   "outputs": [
    {
     "name": "stdout",
     "output_type": "stream",
     "text": []
    }
   ],
   "source": [
    "(define $K (/ (- (* L N) (** M 2))\n",
    "              '(- (* E G) (** F 2))))"
   ]
  },
  {
   "cell_type": "code",
   "execution_count": 19,
   "metadata": {},
   "outputs": [
    {
     "name": "stdout",
     "output_type": "stream",
     "text": []
    }
   ],
   "source": [
    "(define $H (/ (+ (* 'E N) (* 'G L) (* -2 F M))\n",
    "              (* 2 '(- (* E G) (** F 2)))))"
   ]
  },
  {
   "cell_type": "code",
   "execution_count": 20,
   "metadata": {},
   "outputs": [
    {
     "data": {
      "text/html": [
       "$$(\\frac{\\frac{\\partial^2 f}{\\partial x^2} \\frac{\\partial^2 f}{\\partial y^2} - \\frac{\\partial^2 f}{\\partial x \\partial y}^2}{(\\frac{\\partial f}{\\partial x}^2 + \\frac{\\partial f}{\\partial y}^2 + 1)^2}, \\frac{(1 + \\frac{\\partial f}{\\partial x}^2) \\frac{\\partial^2 f}{\\partial y^2} + (1 + \\frac{\\partial f}{\\partial y}^2) \\frac{\\partial^2 f}{\\partial x^2} - 2 \\frac{\\partial f}{\\partial x} \\frac{\\partial f}{\\partial y} \\frac{\\partial^2 f}{\\partial x \\partial y}}{2 \\sqrt{(\\frac{\\partial f}{\\partial x}^2 + \\frac{\\partial f}{\\partial y}^2 + 1)} (1 + \\frac{\\partial f}{\\partial y}^2 + \\frac{\\partial f}{\\partial x}^2)})$$"
      ]
     },
     "metadata": {},
     "output_type": "display_data"
    }
   ],
   "source": [
    "[K H]"
   ]
  },
  {
   "cell_type": "code",
   "execution_count": null,
   "metadata": {},
   "outputs": [],
   "source": []
  }
 ],
 "metadata": {
  "kernelspec": {
   "display_name": "Egison",
   "language": "egison",
   "name": "egison"
  },
  "language_info": {
   "codemirror_mode": "egison",
   "file_extension": ".egi",
   "mimetype": "text/plain",
   "name": "egison"
  }
 },
 "nbformat": 4,
 "nbformat_minor": 2
}
