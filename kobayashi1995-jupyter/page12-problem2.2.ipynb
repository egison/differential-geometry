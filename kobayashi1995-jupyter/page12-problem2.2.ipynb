{
 "cells": [
  {
   "cell_type": "code",
   "execution_count": 1,
   "metadata": {},
   "outputs": [
    {
     "name": "stdout",
     "output_type": "stream",
     "text": []
    }
   ],
   "source": [
    "(define $r (function [θ]))"
   ]
  },
  {
   "cell_type": "code",
   "execution_count": 2,
   "metadata": {},
   "outputs": [
    {
     "name": "stdout",
     "output_type": "stream",
     "text": []
    }
   ],
   "source": [
    "(define $p [| (* r (cos θ)) (* r (sin θ)) |])"
   ]
  },
  {
   "cell_type": "code",
   "execution_count": 3,
   "metadata": {},
   "outputs": [
    {
     "name": "stdout",
     "output_type": "stream",
     "text": []
    }
   ],
   "source": [
    "(define $p' (d/d p θ))"
   ]
  },
  {
   "cell_type": "code",
   "execution_count": 4,
   "metadata": {},
   "outputs": [
    {
     "name": "stdout",
     "output_type": "stream",
     "text": []
    }
   ],
   "source": [
    "(define $e1 (/ p' (sqrt (V.* p' p'))))"
   ]
  },
  {
   "cell_type": "code",
   "execution_count": 5,
   "metadata": {},
   "outputs": [
    {
     "name": "stdout",
     "output_type": "stream",
     "text": []
    }
   ],
   "source": [
    "(define $e2 [| (* -1 e1_2) e1_1 |])"
   ]
  },
  {
   "cell_type": "code",
   "execution_count": 6,
   "metadata": {},
   "outputs": [
    {
     "data": {
      "text/html": [
       "$$\\begin{pmatrix} \\frac{\\frac{\\partial r}{\\partial θ} cos(θ) - r sin(θ)}{\\sqrt{\\frac{\\partial r}{\\partial θ}^2 + r^2}} \\\\ \\frac{\\frac{\\partial r}{\\partial θ} sin(θ) + r cos(θ)}{\\sqrt{\\frac{\\partial r}{\\partial θ}^2 + r^2}}\\\\ \\end{pmatrix}$$"
      ]
     },
     "metadata": {},
     "output_type": "display_data"
    }
   ],
   "source": [
    "e1"
   ]
  },
  {
   "cell_type": "code",
   "execution_count": 7,
   "metadata": {},
   "outputs": [
    {
     "data": {
      "text/html": [
       "$$\\begin{pmatrix} \\frac{-\\frac{\\partial r}{\\partial θ} sin(θ) - r cos(θ)}{\\sqrt{\\frac{\\partial r}{\\partial θ}^2 + r^2}} \\\\ \\frac{\\frac{\\partial r}{\\partial θ} cos(θ) - r sin(θ)}{\\sqrt{\\frac{\\partial r}{\\partial θ}^2 + r^2}}\\\\ \\end{pmatrix}$$"
      ]
     },
     "metadata": {},
     "output_type": "display_data"
    }
   ],
   "source": [
    "e2"
   ]
  },
  {
   "cell_type": "code",
   "execution_count": 8,
   "metadata": {},
   "outputs": [
    {
     "name": "stdout",
     "output_type": "stream",
     "text": []
    }
   ],
   "source": [
    "(define $e1' (d/d e1 θ))"
   ]
  },
  {
   "cell_type": "code",
   "execution_count": 9,
   "metadata": {},
   "outputs": [
    {
     "data": {
      "text/html": [
       "$$\\frac{r^2 \\frac{\\partial^2 r}{\\partial θ^2} cos(θ) - 2 \\frac{\\partial r}{\\partial θ}^3 sin(θ) - r^2 \\frac{\\partial r}{\\partial θ} sin(θ) - 2 \\frac{\\partial r}{\\partial θ}^2 r cos(θ) - r^3 cos(θ) + \\frac{\\partial r}{\\partial θ} \\frac{\\partial^2 r}{\\partial θ^2} r sin(θ)}{\\sqrt{\\frac{\\partial r}{\\partial θ}^2 + r^2} \\frac{\\partial r}{\\partial θ}^2 + \\sqrt{\\frac{\\partial r}{\\partial θ}^2 + r^2} r^2}$$"
      ]
     },
     "metadata": {},
     "output_type": "display_data"
    }
   ],
   "source": [
    "e1'_1"
   ]
  },
  {
   "cell_type": "code",
   "execution_count": 10,
   "metadata": {},
   "outputs": [
    {
     "name": "stdout",
     "output_type": "stream",
     "text": []
    }
   ],
   "source": [
    "(define $ds/dθ (sqrt (V.* p' p')))"
   ]
  },
  {
   "cell_type": "code",
   "execution_count": 11,
   "metadata": {},
   "outputs": [
    {
     "name": "stdout",
     "output_type": "stream",
     "text": []
    }
   ],
   "source": [
    "(define $dθ/ds (/ 1 ds/dθ))"
   ]
  },
  {
   "cell_type": "code",
   "execution_count": 12,
   "metadata": {},
   "outputs": [
    {
     "data": {
      "text/html": [
       "$$\\frac{1}{\\sqrt{\\frac{\\partial r}{\\partial θ}^2 + r^2}}$$"
      ]
     },
     "metadata": {},
     "output_type": "display_data"
    }
   ],
   "source": [
    "dθ/ds"
   ]
  },
  {
   "cell_type": "code",
   "execution_count": 13,
   "metadata": {},
   "outputs": [
    {
     "name": "stdout",
     "output_type": "stream",
     "text": []
    }
   ],
   "source": [
    "(define $κ (* (/ e1'_1 e2_1) dθ/ds))"
   ]
  },
  {
   "cell_type": "code",
   "execution_count": 14,
   "metadata": {},
   "outputs": [
    {
     "data": {
      "text/html": [
       "$$\\frac{r^2 \\frac{\\partial^2 r}{\\partial θ^2} cos(θ) - 2 \\frac{\\partial r}{\\partial θ}^3 sin(θ) - r^2 \\frac{\\partial r}{\\partial θ} sin(θ) - 2 \\frac{\\partial r}{\\partial θ}^2 r cos(θ) - r^3 cos(θ) + \\frac{\\partial r}{\\partial θ} \\frac{\\partial^2 r}{\\partial θ^2} r sin(θ)}{-\\frac{\\partial r}{\\partial θ}^3 sin(θ) \\sqrt{\\frac{\\partial r}{\\partial θ}^2 + r^2} - \\frac{\\partial r}{\\partial θ}^2 r cos(θ) \\sqrt{\\frac{\\partial r}{\\partial θ}^2 + r^2} - r^2 \\frac{\\partial r}{\\partial θ} sin(θ) \\sqrt{\\frac{\\partial r}{\\partial θ}^2 + r^2} - r^3 cos(θ) \\sqrt{\\frac{\\partial r}{\\partial θ}^2 + r^2}}$$"
      ]
     },
     "metadata": {},
     "output_type": "display_data"
    }
   ],
   "source": [
    "κ"
   ]
  },
  {
   "cell_type": "code",
   "execution_count": null,
   "metadata": {},
   "outputs": [],
   "source": []
  }
 ],
 "metadata": {
  "kernelspec": {
   "display_name": "Egison",
   "language": "egison",
   "name": "egison"
  },
  "language_info": {
   "codemirror_mode": "egison",
   "file_extension": ".egi",
   "mimetype": "text/plain",
   "name": "egison"
  }
 },
 "nbformat": 4,
 "nbformat_minor": 2
}
